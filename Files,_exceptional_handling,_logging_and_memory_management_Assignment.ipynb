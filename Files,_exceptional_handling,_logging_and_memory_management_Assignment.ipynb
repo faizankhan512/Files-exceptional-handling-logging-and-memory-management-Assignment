{
  "nbformat": 4,
  "nbformat_minor": 0,
  "metadata": {
    "colab": {
      "provenance": []
    },
    "kernelspec": {
      "name": "python3",
      "display_name": "Python 3"
    },
    "language_info": {
      "name": "python"
    }
  },
  "cells": [
    {
      "cell_type": "markdown",
      "source": [
        "Files, exceptional handling, logging and memory management  Assignment\n"
      ],
      "metadata": {
        "id": "_MEyDIXTRPwb"
      }
    },
    {
      "cell_type": "markdown",
      "source": [
        "1.What is the Difference between interpreted and compiled languages?\n",
        "\n",
        "->Interpreted languages: These are executed line-by-line by an interpreter at runtime (e.g., Python, Ruby). There is no intermediate code generation, which makes them more flexible but slower.\n",
        "\n",
        "Compiled languages: These are translated into machine code by a compiler before execution (e.g., C, C++). The compiled code is faster to execute but less flexible."
      ],
      "metadata": {
        "id": "bRBAY11OIHJ5"
      }
    },
    {
      "cell_type": "markdown",
      "source": [
        "2.What is Exception handling in Python?\n",
        "\n",
        "->Exception handling is a mechanism to handle runtime errors, allowing a program to continue running without crashing.\n",
        "It involves try, except, else, and finally blocks to handle and manage errors."
      ],
      "metadata": {
        "id": "lNtMdorDIHHO"
      }
    },
    {
      "cell_type": "markdown",
      "source": [
        "3.What is the Purpose of the finally block in exception handling?\n",
        "\n",
        "->The finally block is used to execute code that must run no matter what, whether an exception occurred or not.\n",
        " It's typically used for cleanup tasks like closing files or releasing resources."
      ],
      "metadata": {
        "id": "JNSTUk2DIHD-"
      }
    },
    {
      "cell_type": "markdown",
      "source": [
        "4.What is Logging in Python?\n",
        "\n",
        "->Logging in Python is used to track events and errors in a program, especially for debugging, monitoring, and troubleshooting. The logging module provides a flexible framework to log messages at different severity levels."
      ],
      "metadata": {
        "id": "3uS7BWhzIHA-"
      }
    },
    {
      "cell_type": "markdown",
      "source": [
        "5.What is the Significance of the __del__ method in Python?\n",
        "\n",
        "->The __del__ method is a destructor used to perform cleanup when an object is about to be destroyed. It is called when an object’s reference count reaches zero, but it is not guaranteed to run immediately after the object is no longer needed."
      ],
      "metadata": {
        "id": "wEeWHk8gIG97"
      }
    },
    {
      "cell_type": "markdown",
      "source": [
        "6.What is the Difference between import and from ... import in Python?\n",
        "\n",
        "-> import: Imports the entire module (e.g., import math).\n",
        "\n",
        "from ... import:\n",
        "Imports specific functions or variables from a module (e.g., from math import sqrt)."
      ],
      "metadata": {
        "id": "pkKvcxB_IG1a"
      }
    },
    {
      "cell_type": "markdown",
      "source": [
        "7.How can you Handling multiple exceptions in Python?\n",
        "\n",
        "->You can handle multiple exceptions in Python by using multiple except blocks, or by catching multiple exceptions in a single except block using parentheses (e.g., except (TypeError, ValueError):)."
      ],
      "metadata": {
        "id": "hGC6ca5vIGzb"
      }
    },
    {
      "cell_type": "markdown",
      "source": [
        "8.What is the Purpose of the with statement when handling files in Python?\n",
        "\n",
        "->The with statement is used to ensure that a file is properly opened and closed, even if an exception occurs within the block.\n",
        "\n",
        "It automatically handles the closing of the file after the block is executed, preventing resource leaks and simplifying code.\n",
        "\n",
        "This is achieved by using context managers."
      ],
      "metadata": {
        "id": "L7mk-LyKIGwD"
      }
    },
    {
      "cell_type": "markdown",
      "source": [
        "9.What is the Difference between multithreading and multiprocessing?\n",
        "\n",
        "->Multithreading: Allows multiple threads to run concurrently within a single process, sharing memory space. It is more suitable for I/O-bound tasks where the program spends time waiting for external resources (e.g., reading from a file).\n",
        "\n",
        "Multiprocessing: Runs multiple processes in separate memory spaces, making it suitable for CPU-bound tasks that require significant computation, as each process can be executed on different CPU cores."
      ],
      "metadata": {
        "id": "1f38Z1ONIGso"
      }
    },
    {
      "cell_type": "markdown",
      "source": [
        "10.What are the Advantages of using logging in a program?\n",
        "\n",
        "->Logging helps track events, errors, and exceptions that occur during the execution of a program. It provides a structured way to capture runtime information, making it easier to debug, monitor, and analyze the behavior of the application.\n",
        "\n",
        "Logging is also useful for maintaining a history of actions and troubleshooting issues."
      ],
      "metadata": {
        "id": "z8fj8Vl3IGp8"
      }
    },
    {
      "cell_type": "markdown",
      "source": [
        "11.What is memory management in Python?\n",
        "\n",
        "->Python uses automatic memory management, which includes garbage collection and reference counting. Objects are created in memory when they are used, and the Python interpreter keeps track of how many references exist to each object. When no references remain, the memory is freed, and the object is garbage collected to reclaim resources."
      ],
      "metadata": {
        "id": "BgcS08ogIGmi"
      }
    },
    {
      "cell_type": "markdown",
      "source": [
        "12.What are the basic steps involved in exception handling in Python?\n",
        "\n",
        "->The basic steps in exception handling are:\n",
        "\n",
        "try block: Code that might raise an exception is placed here.\n",
        "\n",
        "except block: If an exception is raised, it’s caught and handled in this block.\n",
        "\n",
        "else block: If no exceptions occur in the try block, the code in else runs.\n",
        "\n",
        "finally block: This block always runs, regardless of whether an exception occurred, typically used for cleanup operations."
      ],
      "metadata": {
        "id": "nfrJHs3nIGjP"
      }
    },
    {
      "cell_type": "markdown",
      "source": [
        "13.Why is memory management important in Python?\n",
        "\n",
        "->Proper memory management ensures that the program uses resources efficiently and doesn’t leak memory, which could lead to performance degradation or crashes. Python's garbage collection system helps automatically reclaim memory, but poor memory management can still lead to issues like circular references or unnecessarily holding on to objects."
      ],
      "metadata": {
        "id": "s6y9vrADIGgi"
      }
    },
    {
      "cell_type": "markdown",
      "source": [
        "14.What is the role of try and except in exception handling?\n",
        "\n",
        "->Role of try and except in exception handling:\n",
        "\n",
        "The try block is used to write code that might raise an exception. If an exception occurs, the flow moves to the except block, where the error is handled. This prevents the program from crashing and allows for graceful error handling, such as logging the error or providing a meaningful message to the user."
      ],
      "metadata": {
        "id": "aaIF7BjSIGdM"
      }
    },
    {
      "cell_type": "markdown",
      "source": [
        "15.How does Python's garbage collection system work?\n",
        "\n",
        "->Python uses automatic garbage collection, primarily based on reference counting. When the reference count of an object drops to zero (no variables refer to it), the memory is released. Additionally, Python's garbage collector checks for cyclic references (when objects reference each other) and cleans them up periodically."
      ],
      "metadata": {
        "id": "NtH4HlDwIGZr"
      }
    },
    {
      "cell_type": "markdown",
      "source": [
        "16.What is the purpose of the else block in exception handling?\n",
        "\n",
        "->Purpose of the else block in exception handling:\n",
        "\n",
        "The else block runs only if no exception was raised in the try block. It is useful for code that should execute when the try block succeeds, and it helps separate normal execution from error handling. It ensures that the code is only run when the try block is error-free."
      ],
      "metadata": {
        "id": "FcvKa2YgIGUa"
      }
    },
    {
      "cell_type": "markdown",
      "source": [
        "17.What are the common logging levels in Python?\n",
        "\n",
        "-> Common logging levels in Python:\n",
        "\n",
        "Python’s logging module provides several levels of severity for log messages:\n",
        "\n",
        "DEBUG: Detailed information for diagnosing problems.\n",
        "\n",
        "INFO: General information about program execution.\n",
        "\n",
        "WARNING: Indicates a potential problem or something that is unusual but not necessarily an error.\n",
        "\n",
        "ERROR: Indicates a more serious issue that has affected program execution.\n",
        "\n",
        "CRITICAL: A very serious error, typically requiring immediate attention."
      ],
      "metadata": {
        "id": "EZgdeNM9IGRc"
      }
    },
    {
      "cell_type": "markdown",
      "source": [
        "18.What is the difference between os.fork() and multiprocessing in Python?\n",
        "\n",
        "->Difference between os.fork() and multiprocessing in Python:\n",
        "\n",
        "os.fork(): Creates a child process by duplicating the parent process. The child process has its own memory space, and both processes run concurrently. It’s a low-level way of creating processes.\n",
        "\n",
        "Multiprocessing module: Provides a higher-level API to spawn processes and manage inter-process communication. It’s more flexible and easier to use than os.fork(), and is designed to better handle CPU-bound tasks."
      ],
      "metadata": {
        "id": "WF7MB2l_IGOC"
      }
    },
    {
      "cell_type": "markdown",
      "source": [
        "19.What is the importance of closing a file in Python?\n",
        "\n",
        "->Importance of closing a file in Python:\n",
        "\n",
        "Closing a file in Python is important because it ensures that all data is written to the file and that system resources (like file handles) are released. Failing to close a file can lead to resource leaks, data corruption, or errors in subsequent operations."
      ],
      "metadata": {
        "id": "Gt8IvhH1IGLE"
      }
    },
    {
      "cell_type": "markdown",
      "source": [
        "20.What is the difference between file.read() and file.readline() in Python?\n",
        "\n",
        "->Difference between file.read() and file.readline():\n",
        "\n",
        "file.read(): Reads the entire content of a file as a single string. It’s useful for loading the entire file into memory at once.\n",
        "\n",
        "file.readline(): Reads one line from the file at a time. It’s useful for processing large files line by line without loading the entire file into memory."
      ],
      "metadata": {
        "id": "X9wB2fAEIGIL"
      }
    },
    {
      "cell_type": "markdown",
      "source": [
        "21.What is the logging module in Python used for?\n",
        "\n",
        "->The logging module in Python is used to record and track events, errors, and other significant runtime information in your program. It allows you to log messages at different severity levels (e.g., DEBUG, INFO, WARNING, ERROR, CRITICAL) and output them to various destinations such as the console or a file."
      ],
      "metadata": {
        "id": "6Z2-X0ncIGEi"
      }
    },
    {
      "cell_type": "markdown",
      "source": [
        "22.What is the os module in Python used for in file handling?\n",
        "\n",
        "->The os module provides a way to interact with the operating system. In file handling, it allows you to perform tasks like creating, deleting, and renaming files or directories, as well as manipulating file paths and checking file existence. It also provides functions for working with the current working directory."
      ],
      "metadata": {
        "id": "PDpGPvU3IGBM"
      }
    },
    {
      "cell_type": "markdown",
      "source": [
        "23.What are the challenges associated with memory management in Python?\n",
        "\n",
        "->Some challenges in memory management in Python include handling circular references (where objects reference each other), managing large data structures, and ensuring that memory is properly freed. While Python uses automatic garbage collection, some issues like memory leaks can still arise if objects are not properly dereferenced."
      ],
      "metadata": {
        "id": "Pcb8UQNpIF-G"
      }
    },
    {
      "cell_type": "markdown",
      "source": [
        "24.How do you raise an exception manually in Python?\n",
        "\n",
        "->To raise an exception manually in Python, you can use the raise statement.\n",
        "\n",
        "For example:\n",
        "\n",
        "raise ValueError(\"An error occurred!\")\n",
        "\n",
        "This allows you to create custom exceptions or force an exception under certain conditions."
      ],
      "metadata": {
        "id": "q8JGFVXMIF6w"
      }
    },
    {
      "cell_type": "markdown",
      "source": [
        "25.Why is it important to use multithreading in certain applications?\n",
        "\n",
        "->Multithreading is important in applications that need to perform multiple tasks concurrently, particularly for I/O-bound operations. It allows the program to run multiple threads in the same process, improving performance by executing tasks like file reading or network requests while waiting for I/O operations to complete."
      ],
      "metadata": {
        "id": "cyPqQ3EEIF3T"
      }
    },
    {
      "cell_type": "code",
      "source": [
        "#1.How can you open a file for writing in Python and write a string to it?\n",
        "\n",
        "with open('example.txt', 'w') as file:\n",
        "    file.write(\"Hello, this is a string written to the file!\")"
      ],
      "metadata": {
        "id": "CdFdoTh5M2kj"
      },
      "execution_count": 2,
      "outputs": []
    },
    {
      "cell_type": "code",
      "source": [
        "#2.Write a Python program to read the contents of a file and print each line?\n",
        "\n",
        "with open('example.txt', 'r') as file:\n",
        "    for line in file:\n",
        "        print(line)\n"
      ],
      "metadata": {
        "colab": {
          "base_uri": "https://localhost:8080/"
        },
        "id": "TQO69K_RM2e_",
        "outputId": "d2a0c34c-c679-4091-d0cb-c7ffe5ea8330"
      },
      "execution_count": 25,
      "outputs": [
        {
          "output_type": "stream",
          "name": "stdout",
          "text": [
            "Hello, this is a string written to the file!\n",
            "\n",
            "This is a new line added to the file.\n"
          ]
        }
      ]
    },
    {
      "cell_type": "code",
      "source": [
        "# 3.How would you handle a case where the file doesn't exist while trying to\n",
        "# open it for reading?\n",
        "\n",
        "try:\n",
        "    with open('non_existent_file.txt', 'r') as file:\n",
        "        content = file.read()\n",
        "except FileNotFoundError:\n",
        "    print(\"The file does not exist.\")\n",
        "\n"
      ],
      "metadata": {
        "colab": {
          "base_uri": "https://localhost:8080/"
        },
        "id": "QOOsGgCjNNYI",
        "outputId": "2266fa79-96fa-49fd-aa0f-a3f49a52499d"
      },
      "execution_count": 4,
      "outputs": [
        {
          "output_type": "stream",
          "name": "stdout",
          "text": [
            "The file does not exist.\n"
          ]
        }
      ]
    },
    {
      "cell_type": "code",
      "source": [
        "# 4.Write a Python script that reads from one file and writes its content to\n",
        "# another file:\n",
        "\n",
        "try:\n",
        "    with open('source.txt', 'r') as source_file, open('destination.txt', 'w') as dest_file:\n",
        "        content = source_file.read()\n",
        "        dest_file.write(content)\n",
        "except FileNotFoundError:\n",
        "    print(\"Source file not found.\")\n",
        "\n"
      ],
      "metadata": {
        "colab": {
          "base_uri": "https://localhost:8080/"
        },
        "id": "yWE07IITM2bc",
        "outputId": "4d682c9c-947d-47aa-9d33-1ff282f06b1a"
      },
      "execution_count": 5,
      "outputs": [
        {
          "output_type": "stream",
          "name": "stdout",
          "text": [
            "Source file not found.\n"
          ]
        }
      ]
    },
    {
      "cell_type": "code",
      "source": [
        "#5. How would you catch and handle a division by zero error in Python?\n",
        "\n",
        "try:\n",
        "    result = 10 / 0\n",
        "except ZeroDivisionError:\n",
        "    print(\"Error: Division by zero is not allowed.\")"
      ],
      "metadata": {
        "colab": {
          "base_uri": "https://localhost:8080/"
        },
        "id": "XzJD8zFdM2YN",
        "outputId": "d515d7ca-68e6-4f78-ed61-f666163d8dfb"
      },
      "execution_count": 6,
      "outputs": [
        {
          "output_type": "stream",
          "name": "stdout",
          "text": [
            "Error: Division by zero is not allowed.\n"
          ]
        }
      ]
    },
    {
      "cell_type": "code",
      "source": [
        "#6.Write a Python program that logs an error message to a log file when a\n",
        "# division by zero exception occurs:\n",
        "import logging\n",
        "\n",
        "logging.basicConfig(filename='error_log.txt', level=logging.ERROR)\n",
        "\n",
        "try:\n",
        "    result = 10 / 0\n",
        "except ZeroDivisionError as e:\n",
        "    logging.error(f\"Error: {e}\")"
      ],
      "metadata": {
        "colab": {
          "base_uri": "https://localhost:8080/"
        },
        "id": "o9p1wYuZM2Hz",
        "outputId": "b8e04399-ec45-4133-eff5-91742aa2e5bf"
      },
      "execution_count": 7,
      "outputs": [
        {
          "output_type": "stream",
          "name": "stderr",
          "text": [
            "ERROR:root:Error: division by zero\n"
          ]
        }
      ]
    },
    {
      "cell_type": "code",
      "execution_count": 8,
      "metadata": {
        "colab": {
          "base_uri": "https://localhost:8080/"
        },
        "id": "M0Jq5JNlIEl8",
        "outputId": "4a9ad210-9ee6-4e53-a0e9-45c78822f2d3"
      },
      "outputs": [
        {
          "output_type": "stream",
          "name": "stderr",
          "text": [
            "WARNING:root:This is a warning message\n",
            "ERROR:root:This is an error message\n",
            "CRITICAL:root:This is a critical message\n"
          ]
        }
      ],
      "source": [
        "# 7.How do you log information at different levels (INFO, ERROR, WARNING) in\n",
        "# Python using the logging module?\n",
        "\n",
        "import logging\n",
        "\n",
        "logging.basicConfig(level=logging.DEBUG)\n",
        "\n",
        "logging.debug(\"This is a debug message\")\n",
        "logging.info(\"This is an info message\")\n",
        "logging.warning(\"This is a warning message\")\n",
        "logging.error(\"This is an error message\")\n",
        "logging.critical(\"This is a critical message\")"
      ]
    },
    {
      "cell_type": "code",
      "source": [
        "#8.Write a program to handle a file opening error using exception handling:\n",
        "\n",
        "try:\n",
        "    with open('non_existent_file.txt', 'r') as file:\n",
        "        content = file.read()\n",
        "except Exception as e:\n",
        "    print(f\"An error occurred: {e}\")"
      ],
      "metadata": {
        "colab": {
          "base_uri": "https://localhost:8080/"
        },
        "id": "2AXH_enIOAqw",
        "outputId": "536b7231-987b-46d2-90a6-818ea5777c97"
      },
      "execution_count": 9,
      "outputs": [
        {
          "output_type": "stream",
          "name": "stdout",
          "text": [
            "An error occurred: [Errno 2] No such file or directory: 'non_existent_file.txt'\n"
          ]
        }
      ]
    },
    {
      "cell_type": "code",
      "source": [
        "# 9.How can you read a file line by line and store its content in a list in\n",
        "# Python?\n",
        "\n",
        "lines = []\n",
        "with open('example.txt', 'r') as file:\n",
        "    lines = file.readlines()\n",
        "\n",
        "print(lines)"
      ],
      "metadata": {
        "colab": {
          "base_uri": "https://localhost:8080/"
        },
        "id": "HtTCEXVKOAuT",
        "outputId": "640b02e1-40d7-43d6-d873-f75aee144d0d"
      },
      "execution_count": 10,
      "outputs": [
        {
          "output_type": "stream",
          "name": "stdout",
          "text": [
            "['Hello, this is a string written to the file!']\n"
          ]
        }
      ]
    },
    {
      "cell_type": "code",
      "source": [
        "#10. How can you append data to an existing file in Python?\n",
        "\n",
        "with open('example.txt', 'a') as file:\n",
        "    file.write(\"\\nThis is a new line added to the file.\")"
      ],
      "metadata": {
        "id": "1e8W7QIjOAyY"
      },
      "execution_count": 11,
      "outputs": []
    },
    {
      "cell_type": "code",
      "source": [
        "#14.Write a program that uses the logging module to log both informational and\n",
        "# error messages:\n",
        "\n",
        "import logging\n",
        "\n",
        "logging.basicConfig(level=logging.DEBUG)\n",
        "\n",
        "logging.info(\"This is an informational message.\")\n",
        "\n",
        "logging.error(\"This is an error message.\")"
      ],
      "metadata": {
        "colab": {
          "base_uri": "https://localhost:8080/"
        },
        "id": "KtkLpv8JOA5E",
        "outputId": "a1b41757-1a12-47a6-a80c-52bea961b4ac"
      },
      "execution_count": 15,
      "outputs": [
        {
          "output_type": "stream",
          "name": "stderr",
          "text": [
            "ERROR:root:This is an error message.\n"
          ]
        }
      ]
    },
    {
      "cell_type": "code",
      "source": [
        "#15.Write a Python program that prints the content of a file and handles the\n",
        "# case when the file is empty?\n",
        "\n",
        "file_path = 'example.txt'\n",
        "\n",
        "try:\n",
        "    with open(file_path, 'r') as file:\n",
        "        content = file.read()\n",
        "        if not content:\n",
        "            print(\"The file is empty.\")\n",
        "        else:\n",
        "            print(content)\n",
        "except FileNotFoundError:\n",
        "    print(f\"The file {file_path} does not exist.\")"
      ],
      "metadata": {
        "colab": {
          "base_uri": "https://localhost:8080/"
        },
        "id": "MAPLIRitOA8G",
        "outputId": "a62e37aa-eeca-4d88-8245-9a78a0131c96"
      },
      "execution_count": 16,
      "outputs": [
        {
          "output_type": "stream",
          "name": "stdout",
          "text": [
            "Hello, this is a string written to the file!\n",
            "This is a new line added to the file.\n"
          ]
        }
      ]
    },
    {
      "cell_type": "code",
      "source": [
        "# 17.Write a Python program to create and write a list of numbers to a file, one\n",
        "# number per line:\n",
        "\n",
        "numbers = [1, 2, 3, 4, 5]\n",
        "\n",
        "with open('numbers.txt', 'w') as file:\n",
        "    for number in numbers:\n",
        "        file.write(f\"{number}\\n\")"
      ],
      "metadata": {
        "id": "ai0-6RBKOA-u"
      },
      "execution_count": 20,
      "outputs": []
    },
    {
      "cell_type": "code",
      "source": [
        "#18.How would you implement a basic logging setup that logs to a file with\n",
        "# rotation after 1MB?\n",
        "\n",
        "import logging\n",
        "from logging.handlers import RotatingFileHandler\n",
        "\n",
        "log_file = 'app.log'\n",
        "max_log_size = 1 * 1024 * 1024\n",
        "backup_count = 5\n",
        "\n",
        "handler = RotatingFileHandler(log_file, maxBytes=max_log_size, backupCount=backup_count)\n",
        "\n",
        "logging.basicConfig(\n",
        "    level=logging.DEBUG,\n",
        "    format='%(asctime)s - %(levelname)s - %(message)s',\n",
        "    handlers=[handler]\n",
        ")\n",
        "\n",
        "logging.debug(\"This is a debug message.\")\n",
        "logging.info(\"This is an info message.\")\n",
        "logging.warning(\"This is a warning message.\")\n",
        "logging.error(\"This is an error message.\")\n",
        "logging.critical(\"This is a critical message.\")"
      ],
      "metadata": {
        "colab": {
          "base_uri": "https://localhost:8080/"
        },
        "id": "bbURTy4vPqpM",
        "outputId": "f1fe02ca-cda8-4973-9ab9-954d70c1d65c"
      },
      "execution_count": 21,
      "outputs": [
        {
          "output_type": "stream",
          "name": "stderr",
          "text": [
            "WARNING:root:This is a warning message.\n",
            "ERROR:root:This is an error message.\n",
            "CRITICAL:root:This is a critical message.\n"
          ]
        }
      ]
    },
    {
      "cell_type": "code",
      "source": [
        "# 21.Write a Python program that reads a file and prints the number of\n",
        "# occurrences of a specific word?\n",
        "\n",
        "def count_word_occurrences(file_path, word):\n",
        "    try:\n",
        "        with open(file_path, 'r') as file:\n",
        "            content = file.read().lower()\n",
        "            word_count = content.count(word.lower())\n",
        "            print(f\"The word '{word}' occurred {word_count} times.\")\n",
        "    except FileNotFoundError:\n",
        "        print(f\"The file {file_path} does not exist.\")\n",
        "\n",
        "file_path = 'example.txt'\n",
        "word_to_search = 'python'\n",
        "count_word_occurrences(file_path, word_to_search)"
      ],
      "metadata": {
        "colab": {
          "base_uri": "https://localhost:8080/"
        },
        "id": "f9-1AVpKQfSo",
        "outputId": "fa2f6225-2b14-4700-f8a2-6a74366ba173"
      },
      "execution_count": 22,
      "outputs": [
        {
          "output_type": "stream",
          "name": "stdout",
          "text": [
            "The word 'python' occurred 0 times.\n"
          ]
        }
      ]
    },
    {
      "cell_type": "code",
      "source": [
        "#22.How can you check if a file is empty before attempting to read its\n",
        "# contents?\n",
        "import os\n",
        "\n",
        "def is_file_empty(file_path):\n",
        "    return os.stat(file_path).st_size == 0\n",
        "\n",
        "file_path = 'example.txt'\n",
        "\n",
        "if is_file_empty(file_path):\n",
        "    print(f\"The file {file_path} is empty.\")\n",
        "else:\n",
        "    with open(file_path, 'r') as file:\n",
        "        content = file.read()\n",
        "        print(content)"
      ],
      "metadata": {
        "colab": {
          "base_uri": "https://localhost:8080/"
        },
        "id": "air8lXT7QufS",
        "outputId": "135f3713-d5e7-4b29-d05e-9369b61ccf12"
      },
      "execution_count": 23,
      "outputs": [
        {
          "output_type": "stream",
          "name": "stdout",
          "text": [
            "Hello, this is a string written to the file!\n",
            "This is a new line added to the file.\n"
          ]
        }
      ]
    },
    {
      "cell_type": "code",
      "source": [
        "# 23.Write a Python program that writes to a log file when an error occurs\n",
        "# during file handling:\n",
        "\n",
        "import logging\n",
        "\n",
        "logging.basicConfig(filename='file_handling.log', level=logging.ERROR, format='%(asctime)s - %(levelname)s - %(message)s')\n",
        "\n",
        "def read_file(file_path):\n",
        "    try:\n",
        "        with open(file_path, 'r') as file:\n",
        "            content = file.read()\n",
        "            print(content)\n",
        "    except FileNotFoundError as e:\n",
        "        logging.error(f\"File not found: {e}\")\n",
        "        print(f\"Error: {e}\")\n",
        "    except IOError as e:\n",
        "        logging.error(f\"IO error occurred: {e}\")\n",
        "        print(f\"Error: {e}\")\n",
        "\n",
        "file_path = 'non_existent_file.txt'\n",
        "read_file(file_path)"
      ],
      "metadata": {
        "colab": {
          "base_uri": "https://localhost:8080/"
        },
        "id": "qffx78vYQ4kR",
        "outputId": "67f41869-c8c6-43f2-dce3-fe78752f859a"
      },
      "execution_count": 24,
      "outputs": [
        {
          "output_type": "stream",
          "name": "stderr",
          "text": [
            "ERROR:root:File not found: [Errno 2] No such file or directory: 'non_existent_file.txt'\n"
          ]
        },
        {
          "output_type": "stream",
          "name": "stdout",
          "text": [
            "Error: [Errno 2] No such file or directory: 'non_existent_file.txt'\n"
          ]
        }
      ]
    },
    {
      "cell_type": "code",
      "source": [],
      "metadata": {
        "id": "s0McsvyVRBdW"
      },
      "execution_count": null,
      "outputs": []
    }
  ]
}